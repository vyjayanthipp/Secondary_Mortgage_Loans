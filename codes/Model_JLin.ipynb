{
 "cells": [
  {
   "cell_type": "markdown",
   "metadata": {},
   "source": [
    "# Classifier Model"
   ]
  },
  {
   "cell_type": "markdown",
   "metadata": {},
   "source": [
    "Create Path to Import *.py files (not needed in \"index.ipynb\")"
   ]
  },
  {
   "cell_type": "code",
   "execution_count": 1,
   "metadata": {
    "pycharm": {
     "name": "#%%\n"
    }
   },
   "outputs": [],
   "source": [
    "import os\n",
    "import sys\n",
    "\n",
    "module_path = os.path.abspath(os.path.join('..'))\n",
    "if module_path not in sys.path:\n",
    "    sys.path.append(module_path)\n",
    "    sys.path.append(module_path+'/data')"
   ]
  },
  {
   "cell_type": "markdown",
   "metadata": {
    "pycharm": {
     "name": "#%% md\n"
    }
   },
   "source": [
    "#### sklearn libraries"
   ]
  },
  {
   "cell_type": "code",
   "execution_count": 2,
   "metadata": {
    "pycharm": {
     "name": "#%%\n"
    }
   },
   "outputs": [],
   "source": [
    "from sklearn.model_selection import RandomizedSearchCV, GridSearchCV\n",
    "from sklearn.preprocessing import OneHotEncoder, StandardScaler\n",
    "from sklearn.pipeline import Pipeline, make_pipeline\n",
    "from sklearn.decomposition import PCA\n",
    "from sklearn.linear_model import LogisticRegression\n",
    "from sklearn.svm import SVC\n",
    "from sklearn.ensemble import RandomForestClassifier\n",
    "from codes.preprocess import *"
   ]
  },
  {
   "cell_type": "markdown",
   "metadata": {},
   "source": [
    "#### Load clean train data."
   ]
  },
  {
   "cell_type": "code",
   "execution_count": 44,
   "metadata": {},
   "outputs": [],
   "source": [
    "df = pd.read_csv(module_path+'/data/cleaned_train_data.csv.zip')"
   ]
  },
  {
   "cell_type": "code",
   "execution_count": 45,
   "metadata": {},
   "outputs": [],
   "source": [
    "X_train = df.drop(columns=['delinquency_bool'])\n",
    "y_train = df.delinquency_bool"
   ]
  },
  {
   "cell_type": "code",
   "execution_count": 52,
   "metadata": {},
   "outputs": [
    {
     "data": {
      "text/plain": [
       "id                           0\n",
       "org_balance                  0\n",
       "interest_rate_x              0\n",
       "ltv                          0\n",
       "score                       29\n",
       "loan_purpose                 0\n",
       "dti                         19\n",
       "occupancy_type               0\n",
       "property_type                0\n",
       "reporting_period             0\n",
       "interest_rate_y              0\n",
       "upc_balance                  0\n",
       "loan_age                     0\n",
       "months_to_maturity           0\n",
       "adj_months_to_maturity       0\n",
       "msa                          0\n",
       "delinquency_status           0\n",
       "modification_flag            0\n",
       "payment_amounts           1824\n",
       "dtype: int64"
      ]
     },
     "execution_count": 52,
     "metadata": {},
     "output_type": "execute_result"
    }
   ],
   "source": [
    "X_train[y_train==1].isna().sum()"
   ]
  },
  {
   "cell_type": "code",
   "execution_count": 53,
   "metadata": {},
   "outputs": [
    {
     "data": {
      "text/plain": [
       "id                          0\n",
       "org_balance                 0\n",
       "interest_rate_x             0\n",
       "ltv                         0\n",
       "score                     725\n",
       "loan_purpose                0\n",
       "dti                       291\n",
       "occupancy_type              0\n",
       "property_type               0\n",
       "reporting_period            0\n",
       "interest_rate_y             0\n",
       "upc_balance                 0\n",
       "loan_age                    0\n",
       "months_to_maturity          0\n",
       "adj_months_to_maturity      0\n",
       "msa                         0\n",
       "delinquency_status          0\n",
       "modification_flag           0\n",
       "payment_amounts           729\n",
       "dtype: int64"
      ]
     },
     "execution_count": 53,
     "metadata": {},
     "output_type": "execute_result"
    }
   ],
   "source": [
    "X_train[y_train==0].isna().sum()"
   ]
  },
  {
   "cell_type": "markdown",
   "metadata": {},
   "source": [
    "Testing pipe and grid with subset of 5000."
   ]
  },
  {
   "cell_type": "code",
   "execution_count": 16,
   "metadata": {},
   "outputs": [],
   "source": [
    "X_train = X_train[0:5000].fillna(0)\n",
    "y_train = y_train[0:5000]"
   ]
  },
  {
   "cell_type": "code",
   "execution_count": 35,
   "metadata": {},
   "outputs": [
    {
     "data": {
      "text/html": [
       "<div>\n",
       "<style scoped>\n",
       "    .dataframe tbody tr th:only-of-type {\n",
       "        vertical-align: middle;\n",
       "    }\n",
       "\n",
       "    .dataframe tbody tr th {\n",
       "        vertical-align: top;\n",
       "    }\n",
       "\n",
       "    .dataframe thead th {\n",
       "        text-align: right;\n",
       "    }\n",
       "</style>\n",
       "<table border=\"1\" class=\"dataframe\">\n",
       "  <thead>\n",
       "    <tr style=\"text-align: right;\">\n",
       "      <th></th>\n",
       "      <th>Unnamed: 0</th>\n",
       "      <th>id</th>\n",
       "      <th>org_balance</th>\n",
       "      <th>interest_rate_x</th>\n",
       "      <th>ltv</th>\n",
       "      <th>score</th>\n",
       "      <th>loan_purpose</th>\n",
       "      <th>dti</th>\n",
       "      <th>occupancy_type</th>\n",
       "      <th>property_type</th>\n",
       "      <th>reporting_period</th>\n",
       "      <th>interest_rate_y</th>\n",
       "      <th>upc_balance</th>\n",
       "      <th>loan_age</th>\n",
       "      <th>months_to_maturity</th>\n",
       "      <th>adj_months_to_maturity</th>\n",
       "      <th>msa</th>\n",
       "      <th>delinquency_status</th>\n",
       "      <th>modification_flag</th>\n",
       "      <th>payment_amounts</th>\n",
       "    </tr>\n",
       "  </thead>\n",
       "  <tbody>\n",
       "    <tr>\n",
       "      <th>0</th>\n",
       "      <td>599691</td>\n",
       "      <td>517830707527</td>\n",
       "      <td>79000</td>\n",
       "      <td>4.750</td>\n",
       "      <td>95</td>\n",
       "      <td>686.0</td>\n",
       "      <td>P</td>\n",
       "      <td>28.0</td>\n",
       "      <td>P</td>\n",
       "      <td>SF</td>\n",
       "      <td>2019-09-01</td>\n",
       "      <td>4.750</td>\n",
       "      <td>77002.38</td>\n",
       "      <td>14</td>\n",
       "      <td>346</td>\n",
       "      <td>343.0</td>\n",
       "      <td>38300</td>\n",
       "      <td>0</td>\n",
       "      <td>N</td>\n",
       "      <td>105.96</td>\n",
       "    </tr>\n",
       "    <tr>\n",
       "      <th>1</th>\n",
       "      <td>1545977</td>\n",
       "      <td>832752250469</td>\n",
       "      <td>167000</td>\n",
       "      <td>4.750</td>\n",
       "      <td>95</td>\n",
       "      <td>774.0</td>\n",
       "      <td>P</td>\n",
       "      <td>31.0</td>\n",
       "      <td>P</td>\n",
       "      <td>SF</td>\n",
       "      <td>2019-09-01</td>\n",
       "      <td>4.750</td>\n",
       "      <td>165058.56</td>\n",
       "      <td>10</td>\n",
       "      <td>350</td>\n",
       "      <td>350.0</td>\n",
       "      <td>22020</td>\n",
       "      <td>0</td>\n",
       "      <td>N</td>\n",
       "      <td>217.97</td>\n",
       "    </tr>\n",
       "    <tr>\n",
       "      <th>2</th>\n",
       "      <td>286339</td>\n",
       "      <td>707705221705</td>\n",
       "      <td>255000</td>\n",
       "      <td>4.500</td>\n",
       "      <td>75</td>\n",
       "      <td>689.5</td>\n",
       "      <td>C</td>\n",
       "      <td>24.0</td>\n",
       "      <td>P</td>\n",
       "      <td>SF</td>\n",
       "      <td>2019-09-01</td>\n",
       "      <td>4.500</td>\n",
       "      <td>248170.98</td>\n",
       "      <td>18</td>\n",
       "      <td>342</td>\n",
       "      <td>341.0</td>\n",
       "      <td>42660</td>\n",
       "      <td>0</td>\n",
       "      <td>N</td>\n",
       "      <td>416.74</td>\n",
       "    </tr>\n",
       "    <tr>\n",
       "      <th>3</th>\n",
       "      <td>628109</td>\n",
       "      <td>585358604766</td>\n",
       "      <td>208000</td>\n",
       "      <td>4.500</td>\n",
       "      <td>80</td>\n",
       "      <td>776.5</td>\n",
       "      <td>P</td>\n",
       "      <td>32.0</td>\n",
       "      <td>P</td>\n",
       "      <td>PU</td>\n",
       "      <td>2019-09-01</td>\n",
       "      <td>4.500</td>\n",
       "      <td>203781.73</td>\n",
       "      <td>15</td>\n",
       "      <td>345</td>\n",
       "      <td>345.0</td>\n",
       "      <td>41700</td>\n",
       "      <td>0</td>\n",
       "      <td>N</td>\n",
       "      <td>288.65</td>\n",
       "    </tr>\n",
       "    <tr>\n",
       "      <th>4</th>\n",
       "      <td>743694</td>\n",
       "      <td>858558980884</td>\n",
       "      <td>280000</td>\n",
       "      <td>4.625</td>\n",
       "      <td>80</td>\n",
       "      <td>819.0</td>\n",
       "      <td>P</td>\n",
       "      <td>21.0</td>\n",
       "      <td>P</td>\n",
       "      <td>SF</td>\n",
       "      <td>2019-08-01</td>\n",
       "      <td>4.625</td>\n",
       "      <td>202928.74</td>\n",
       "      <td>14</td>\n",
       "      <td>166</td>\n",
       "      <td>117.0</td>\n",
       "      <td>0</td>\n",
       "      <td>0</td>\n",
       "      <td>N</td>\n",
       "      <td>5623.50</td>\n",
       "    </tr>\n",
       "    <tr>\n",
       "      <th>...</th>\n",
       "      <td>...</td>\n",
       "      <td>...</td>\n",
       "      <td>...</td>\n",
       "      <td>...</td>\n",
       "      <td>...</td>\n",
       "      <td>...</td>\n",
       "      <td>...</td>\n",
       "      <td>...</td>\n",
       "      <td>...</td>\n",
       "      <td>...</td>\n",
       "      <td>...</td>\n",
       "      <td>...</td>\n",
       "      <td>...</td>\n",
       "      <td>...</td>\n",
       "      <td>...</td>\n",
       "      <td>...</td>\n",
       "      <td>...</td>\n",
       "      <td>...</td>\n",
       "      <td>...</td>\n",
       "      <td>...</td>\n",
       "    </tr>\n",
       "    <tr>\n",
       "      <th>4995</th>\n",
       "      <td>651906</td>\n",
       "      <td>642529870927</td>\n",
       "      <td>453000</td>\n",
       "      <td>4.250</td>\n",
       "      <td>67</td>\n",
       "      <td>757.5</td>\n",
       "      <td>P</td>\n",
       "      <td>48.0</td>\n",
       "      <td>P</td>\n",
       "      <td>SF</td>\n",
       "      <td>2019-09-01</td>\n",
       "      <td>4.250</td>\n",
       "      <td>441421.27</td>\n",
       "      <td>18</td>\n",
       "      <td>342</td>\n",
       "      <td>342.0</td>\n",
       "      <td>41180</td>\n",
       "      <td>0</td>\n",
       "      <td>N</td>\n",
       "      <td>662.78</td>\n",
       "    </tr>\n",
       "    <tr>\n",
       "      <th>4996</th>\n",
       "      <td>418668</td>\n",
       "      <td>989349794537</td>\n",
       "      <td>267000</td>\n",
       "      <td>3.700</td>\n",
       "      <td>67</td>\n",
       "      <td>705.0</td>\n",
       "      <td>R</td>\n",
       "      <td>21.0</td>\n",
       "      <td>P</td>\n",
       "      <td>SF</td>\n",
       "      <td>2019-09-01</td>\n",
       "      <td>3.700</td>\n",
       "      <td>251102.05</td>\n",
       "      <td>21</td>\n",
       "      <td>219</td>\n",
       "      <td>219.0</td>\n",
       "      <td>11100</td>\n",
       "      <td>0</td>\n",
       "      <td>N</td>\n",
       "      <td>801.94</td>\n",
       "    </tr>\n",
       "    <tr>\n",
       "      <th>4997</th>\n",
       "      <td>1058893</td>\n",
       "      <td>616729132204</td>\n",
       "      <td>135000</td>\n",
       "      <td>5.250</td>\n",
       "      <td>71</td>\n",
       "      <td>644.0</td>\n",
       "      <td>R</td>\n",
       "      <td>40.0</td>\n",
       "      <td>P</td>\n",
       "      <td>SF</td>\n",
       "      <td>2019-09-01</td>\n",
       "      <td>5.250</td>\n",
       "      <td>132769.45</td>\n",
       "      <td>13</td>\n",
       "      <td>347</td>\n",
       "      <td>346.0</td>\n",
       "      <td>12940</td>\n",
       "      <td>0</td>\n",
       "      <td>N</td>\n",
       "      <td>163.89</td>\n",
       "    </tr>\n",
       "    <tr>\n",
       "      <th>4998</th>\n",
       "      <td>787742</td>\n",
       "      <td>962680216113</td>\n",
       "      <td>87000</td>\n",
       "      <td>4.750</td>\n",
       "      <td>90</td>\n",
       "      <td>797.0</td>\n",
       "      <td>P</td>\n",
       "      <td>21.0</td>\n",
       "      <td>P</td>\n",
       "      <td>CO</td>\n",
       "      <td>2019-09-01</td>\n",
       "      <td>4.750</td>\n",
       "      <td>85722.07</td>\n",
       "      <td>14</td>\n",
       "      <td>346</td>\n",
       "      <td>346.0</td>\n",
       "      <td>38060</td>\n",
       "      <td>0</td>\n",
       "      <td>N</td>\n",
       "      <td>115.63</td>\n",
       "    </tr>\n",
       "    <tr>\n",
       "      <th>4999</th>\n",
       "      <td>710900</td>\n",
       "      <td>782012437900</td>\n",
       "      <td>120000</td>\n",
       "      <td>4.875</td>\n",
       "      <td>65</td>\n",
       "      <td>729.0</td>\n",
       "      <td>C</td>\n",
       "      <td>43.0</td>\n",
       "      <td>P</td>\n",
       "      <td>PU</td>\n",
       "      <td>2018-10-01</td>\n",
       "      <td>4.875</td>\n",
       "      <td>120000.00</td>\n",
       "      <td>5</td>\n",
       "      <td>355</td>\n",
       "      <td>355.0</td>\n",
       "      <td>14260</td>\n",
       "      <td>0</td>\n",
       "      <td>N</td>\n",
       "      <td>-0.00</td>\n",
       "    </tr>\n",
       "  </tbody>\n",
       "</table>\n",
       "<p>5000 rows × 20 columns</p>\n",
       "</div>"
      ],
      "text/plain": [
       "      Unnamed: 0            id  org_balance  interest_rate_x  ltv  score  \\\n",
       "0         599691  517830707527        79000            4.750   95  686.0   \n",
       "1        1545977  832752250469       167000            4.750   95  774.0   \n",
       "2         286339  707705221705       255000            4.500   75  689.5   \n",
       "3         628109  585358604766       208000            4.500   80  776.5   \n",
       "4         743694  858558980884       280000            4.625   80  819.0   \n",
       "...          ...           ...          ...              ...  ...    ...   \n",
       "4995      651906  642529870927       453000            4.250   67  757.5   \n",
       "4996      418668  989349794537       267000            3.700   67  705.0   \n",
       "4997     1058893  616729132204       135000            5.250   71  644.0   \n",
       "4998      787742  962680216113        87000            4.750   90  797.0   \n",
       "4999      710900  782012437900       120000            4.875   65  729.0   \n",
       "\n",
       "     loan_purpose   dti occupancy_type property_type reporting_period  \\\n",
       "0               P  28.0              P            SF       2019-09-01   \n",
       "1               P  31.0              P            SF       2019-09-01   \n",
       "2               C  24.0              P            SF       2019-09-01   \n",
       "3               P  32.0              P            PU       2019-09-01   \n",
       "4               P  21.0              P            SF       2019-08-01   \n",
       "...           ...   ...            ...           ...              ...   \n",
       "4995            P  48.0              P            SF       2019-09-01   \n",
       "4996            R  21.0              P            SF       2019-09-01   \n",
       "4997            R  40.0              P            SF       2019-09-01   \n",
       "4998            P  21.0              P            CO       2019-09-01   \n",
       "4999            C  43.0              P            PU       2018-10-01   \n",
       "\n",
       "      interest_rate_y  upc_balance  loan_age  months_to_maturity  \\\n",
       "0               4.750     77002.38        14                 346   \n",
       "1               4.750    165058.56        10                 350   \n",
       "2               4.500    248170.98        18                 342   \n",
       "3               4.500    203781.73        15                 345   \n",
       "4               4.625    202928.74        14                 166   \n",
       "...               ...          ...       ...                 ...   \n",
       "4995            4.250    441421.27        18                 342   \n",
       "4996            3.700    251102.05        21                 219   \n",
       "4997            5.250    132769.45        13                 347   \n",
       "4998            4.750     85722.07        14                 346   \n",
       "4999            4.875    120000.00         5                 355   \n",
       "\n",
       "      adj_months_to_maturity    msa  delinquency_status modification_flag  \\\n",
       "0                      343.0  38300                   0                 N   \n",
       "1                      350.0  22020                   0                 N   \n",
       "2                      341.0  42660                   0                 N   \n",
       "3                      345.0  41700                   0                 N   \n",
       "4                      117.0      0                   0                 N   \n",
       "...                      ...    ...                 ...               ...   \n",
       "4995                   342.0  41180                   0                 N   \n",
       "4996                   219.0  11100                   0                 N   \n",
       "4997                   346.0  12940                   0                 N   \n",
       "4998                   346.0  38060                   0                 N   \n",
       "4999                   355.0  14260                   0                 N   \n",
       "\n",
       "      payment_amounts  \n",
       "0              105.96  \n",
       "1              217.97  \n",
       "2              416.74  \n",
       "3              288.65  \n",
       "4             5623.50  \n",
       "...               ...  \n",
       "4995           662.78  \n",
       "4996           801.94  \n",
       "4997           163.89  \n",
       "4998           115.63  \n",
       "4999            -0.00  \n",
       "\n",
       "[5000 rows x 20 columns]"
      ]
     },
     "execution_count": 35,
     "metadata": {},
     "output_type": "execute_result"
    }
   ],
   "source": [
    "X_train"
   ]
  },
  {
   "cell_type": "code",
   "execution_count": null,
   "metadata": {},
   "outputs": [],
   "source": []
  },
  {
   "cell_type": "code",
   "execution_count": 15,
   "metadata": {},
   "outputs": [
    {
     "data": {
      "text/plain": [
       "0    4782\n",
       "1     218\n",
       "Name: delinquency_bool, dtype: int64"
      ]
     },
     "execution_count": 15,
     "metadata": {},
     "output_type": "execute_result"
    }
   ],
   "source": [
    "y_train.value_counts()"
   ]
  },
  {
   "cell_type": "code",
   "execution_count": 32,
   "metadata": {},
   "outputs": [],
   "source": [
    "categ_cols = X_train.columns[X_train.dtypes==object].tolist()"
   ]
  },
  {
   "cell_type": "code",
   "execution_count": 33,
   "metadata": {},
   "outputs": [],
   "source": [
    "numeric_cols = X_train.columns[X_train.dtypes!=object].tolist()"
   ]
  },
  {
   "cell_type": "code",
   "execution_count": 34,
   "metadata": {},
   "outputs": [
    {
     "name": "stdout",
     "output_type": "stream",
     "text": [
      "['loan_purpose', 'occupancy_type', 'property_type', 'reporting_period', 'modification_flag'] \n",
      " ['Unnamed: 0', 'id', 'org_balance', 'interest_rate_x', 'ltv', 'score', 'dti', 'interest_rate_y', 'upc_balance', 'loan_age', 'months_to_maturity', 'adj_months_to_maturity', 'msa', 'delinquency_status', 'payment_amounts']\n"
     ]
    }
   ],
   "source": [
    "print(categ_cols,'\\n',numeric_cols)"
   ]
  },
  {
   "cell_type": "markdown",
   "metadata": {},
   "source": [
    "#### Build a base pipeline."
   ]
  },
  {
   "cell_type": "code",
   "execution_count": 27,
   "metadata": {},
   "outputs": [],
   "source": [
    "import time"
   ]
  },
  {
   "cell_type": "code",
   "execution_count": null,
   "metadata": {},
   "outputs": [],
   "source": [
    "steps = dict(\n",
    "    std_sc=StandardScaler(),\n",
    "    dummies=OneHotEncoder(),\n",
    "    estm=LogisticRegression()\n",
    ")"
   ]
  },
  {
   "cell_type": "code",
   "execution_count": 30,
   "metadata": {},
   "outputs": [],
   "source": [
    "pipe = Pipeline(steps=steps.items())"
   ]
  },
  {
   "cell_type": "code",
   "execution_count": 31,
   "metadata": {},
   "outputs": [
    {
     "ename": "ValueError",
     "evalue": "could not convert string to float: 'P'",
     "output_type": "error",
     "traceback": [
      "\u001b[0;31m---------------------------------------------------------------------------\u001b[0m",
      "\u001b[0;31mValueError\u001b[0m                                Traceback (most recent call last)",
      "\u001b[0;32m<ipython-input-31-315a20e72400>\u001b[0m in \u001b[0;36m<module>\u001b[0;34m\u001b[0m\n\u001b[0;32m----> 1\u001b[0;31m \u001b[0mpipe\u001b[0m\u001b[0;34m.\u001b[0m\u001b[0mfit\u001b[0m\u001b[0;34m(\u001b[0m\u001b[0mX_train\u001b[0m\u001b[0;34m,\u001b[0m\u001b[0my_train\u001b[0m\u001b[0;34m)\u001b[0m\u001b[0;34m\u001b[0m\u001b[0m\n\u001b[0m",
      "\u001b[0;32m/Library/Frameworks/Python.framework/Versions/3.7/lib/python3.7/site-packages/sklearn/pipeline.py\u001b[0m in \u001b[0;36mfit\u001b[0;34m(self, X, y, **fit_params)\u001b[0m\n\u001b[1;32m    348\u001b[0m             \u001b[0mThis\u001b[0m \u001b[0mestimator\u001b[0m\u001b[0;34m\u001b[0m\u001b[0m\n\u001b[1;32m    349\u001b[0m         \"\"\"\n\u001b[0;32m--> 350\u001b[0;31m         \u001b[0mXt\u001b[0m\u001b[0;34m,\u001b[0m \u001b[0mfit_params\u001b[0m \u001b[0;34m=\u001b[0m \u001b[0mself\u001b[0m\u001b[0;34m.\u001b[0m\u001b[0m_fit\u001b[0m\u001b[0;34m(\u001b[0m\u001b[0mX\u001b[0m\u001b[0;34m,\u001b[0m \u001b[0my\u001b[0m\u001b[0;34m,\u001b[0m \u001b[0;34m**\u001b[0m\u001b[0mfit_params\u001b[0m\u001b[0;34m)\u001b[0m\u001b[0;34m\u001b[0m\u001b[0m\n\u001b[0m\u001b[1;32m    351\u001b[0m         with _print_elapsed_time('Pipeline',\n\u001b[1;32m    352\u001b[0m                                  self._log_message(len(self.steps) - 1)):\n",
      "\u001b[0;32m/Library/Frameworks/Python.framework/Versions/3.7/lib/python3.7/site-packages/sklearn/pipeline.py\u001b[0m in \u001b[0;36m_fit\u001b[0;34m(self, X, y, **fit_params)\u001b[0m\n\u001b[1;32m    313\u001b[0m                 \u001b[0mmessage_clsname\u001b[0m\u001b[0;34m=\u001b[0m\u001b[0;34m'Pipeline'\u001b[0m\u001b[0;34m,\u001b[0m\u001b[0;34m\u001b[0m\u001b[0m\n\u001b[1;32m    314\u001b[0m                 \u001b[0mmessage\u001b[0m\u001b[0;34m=\u001b[0m\u001b[0mself\u001b[0m\u001b[0;34m.\u001b[0m\u001b[0m_log_message\u001b[0m\u001b[0;34m(\u001b[0m\u001b[0mstep_idx\u001b[0m\u001b[0;34m)\u001b[0m\u001b[0;34m,\u001b[0m\u001b[0;34m\u001b[0m\u001b[0m\n\u001b[0;32m--> 315\u001b[0;31m                 **fit_params_steps[name])\n\u001b[0m\u001b[1;32m    316\u001b[0m             \u001b[0;31m# Replace the transformer of the step with the fitted\u001b[0m\u001b[0;34m\u001b[0m\u001b[0;34m\u001b[0m\u001b[0m\n\u001b[1;32m    317\u001b[0m             \u001b[0;31m# transformer. This is necessary when loading the transformer\u001b[0m\u001b[0;34m\u001b[0m\u001b[0;34m\u001b[0m\u001b[0m\n",
      "\u001b[0;32m/Library/Frameworks/Python.framework/Versions/3.7/lib/python3.7/site-packages/joblib/memory.py\u001b[0m in \u001b[0;36m__call__\u001b[0;34m(self, *args, **kwargs)\u001b[0m\n\u001b[1;32m    353\u001b[0m \u001b[0;34m\u001b[0m\u001b[0m\n\u001b[1;32m    354\u001b[0m     \u001b[0;32mdef\u001b[0m \u001b[0m__call__\u001b[0m\u001b[0;34m(\u001b[0m\u001b[0mself\u001b[0m\u001b[0;34m,\u001b[0m \u001b[0;34m*\u001b[0m\u001b[0margs\u001b[0m\u001b[0;34m,\u001b[0m \u001b[0;34m**\u001b[0m\u001b[0mkwargs\u001b[0m\u001b[0;34m)\u001b[0m\u001b[0;34m:\u001b[0m\u001b[0;34m\u001b[0m\u001b[0m\n\u001b[0;32m--> 355\u001b[0;31m         \u001b[0;32mreturn\u001b[0m \u001b[0mself\u001b[0m\u001b[0;34m.\u001b[0m\u001b[0mfunc\u001b[0m\u001b[0;34m(\u001b[0m\u001b[0;34m*\u001b[0m\u001b[0margs\u001b[0m\u001b[0;34m,\u001b[0m \u001b[0;34m**\u001b[0m\u001b[0mkwargs\u001b[0m\u001b[0;34m)\u001b[0m\u001b[0;34m\u001b[0m\u001b[0m\n\u001b[0m\u001b[1;32m    356\u001b[0m \u001b[0;34m\u001b[0m\u001b[0m\n\u001b[1;32m    357\u001b[0m     \u001b[0;32mdef\u001b[0m \u001b[0mcall_and_shelve\u001b[0m\u001b[0;34m(\u001b[0m\u001b[0mself\u001b[0m\u001b[0;34m,\u001b[0m \u001b[0;34m*\u001b[0m\u001b[0margs\u001b[0m\u001b[0;34m,\u001b[0m \u001b[0;34m**\u001b[0m\u001b[0mkwargs\u001b[0m\u001b[0;34m)\u001b[0m\u001b[0;34m:\u001b[0m\u001b[0;34m\u001b[0m\u001b[0m\n",
      "\u001b[0;32m/Library/Frameworks/Python.framework/Versions/3.7/lib/python3.7/site-packages/sklearn/pipeline.py\u001b[0m in \u001b[0;36m_fit_transform_one\u001b[0;34m(transformer, X, y, weight, message_clsname, message, **fit_params)\u001b[0m\n\u001b[1;32m    726\u001b[0m     \u001b[0;32mwith\u001b[0m \u001b[0m_print_elapsed_time\u001b[0m\u001b[0;34m(\u001b[0m\u001b[0mmessage_clsname\u001b[0m\u001b[0;34m,\u001b[0m \u001b[0mmessage\u001b[0m\u001b[0;34m)\u001b[0m\u001b[0;34m:\u001b[0m\u001b[0;34m\u001b[0m\u001b[0m\n\u001b[1;32m    727\u001b[0m         \u001b[0;32mif\u001b[0m \u001b[0mhasattr\u001b[0m\u001b[0;34m(\u001b[0m\u001b[0mtransformer\u001b[0m\u001b[0;34m,\u001b[0m \u001b[0;34m'fit_transform'\u001b[0m\u001b[0;34m)\u001b[0m\u001b[0;34m:\u001b[0m\u001b[0;34m\u001b[0m\u001b[0m\n\u001b[0;32m--> 728\u001b[0;31m             \u001b[0mres\u001b[0m \u001b[0;34m=\u001b[0m \u001b[0mtransformer\u001b[0m\u001b[0;34m.\u001b[0m\u001b[0mfit_transform\u001b[0m\u001b[0;34m(\u001b[0m\u001b[0mX\u001b[0m\u001b[0;34m,\u001b[0m \u001b[0my\u001b[0m\u001b[0;34m,\u001b[0m \u001b[0;34m**\u001b[0m\u001b[0mfit_params\u001b[0m\u001b[0;34m)\u001b[0m\u001b[0;34m\u001b[0m\u001b[0m\n\u001b[0m\u001b[1;32m    729\u001b[0m         \u001b[0;32melse\u001b[0m\u001b[0;34m:\u001b[0m\u001b[0;34m\u001b[0m\u001b[0m\n\u001b[1;32m    730\u001b[0m             \u001b[0mres\u001b[0m \u001b[0;34m=\u001b[0m \u001b[0mtransformer\u001b[0m\u001b[0;34m.\u001b[0m\u001b[0mfit\u001b[0m\u001b[0;34m(\u001b[0m\u001b[0mX\u001b[0m\u001b[0;34m,\u001b[0m \u001b[0my\u001b[0m\u001b[0;34m,\u001b[0m \u001b[0;34m**\u001b[0m\u001b[0mfit_params\u001b[0m\u001b[0;34m)\u001b[0m\u001b[0;34m.\u001b[0m\u001b[0mtransform\u001b[0m\u001b[0;34m(\u001b[0m\u001b[0mX\u001b[0m\u001b[0;34m)\u001b[0m\u001b[0;34m\u001b[0m\u001b[0m\n",
      "\u001b[0;32m/Library/Frameworks/Python.framework/Versions/3.7/lib/python3.7/site-packages/sklearn/base.py\u001b[0m in \u001b[0;36mfit_transform\u001b[0;34m(self, X, y, **fit_params)\u001b[0m\n\u001b[1;32m    572\u001b[0m         \u001b[0;32melse\u001b[0m\u001b[0;34m:\u001b[0m\u001b[0;34m\u001b[0m\u001b[0m\n\u001b[1;32m    573\u001b[0m             \u001b[0;31m# fit method of arity 2 (supervised transformation)\u001b[0m\u001b[0;34m\u001b[0m\u001b[0;34m\u001b[0m\u001b[0m\n\u001b[0;32m--> 574\u001b[0;31m             \u001b[0;32mreturn\u001b[0m \u001b[0mself\u001b[0m\u001b[0;34m.\u001b[0m\u001b[0mfit\u001b[0m\u001b[0;34m(\u001b[0m\u001b[0mX\u001b[0m\u001b[0;34m,\u001b[0m \u001b[0my\u001b[0m\u001b[0;34m,\u001b[0m \u001b[0;34m**\u001b[0m\u001b[0mfit_params\u001b[0m\u001b[0;34m)\u001b[0m\u001b[0;34m.\u001b[0m\u001b[0mtransform\u001b[0m\u001b[0;34m(\u001b[0m\u001b[0mX\u001b[0m\u001b[0;34m)\u001b[0m\u001b[0;34m\u001b[0m\u001b[0m\n\u001b[0m\u001b[1;32m    575\u001b[0m \u001b[0;34m\u001b[0m\u001b[0m\n\u001b[1;32m    576\u001b[0m \u001b[0;34m\u001b[0m\u001b[0m\n",
      "\u001b[0;32m/Library/Frameworks/Python.framework/Versions/3.7/lib/python3.7/site-packages/sklearn/preprocessing/_data.py\u001b[0m in \u001b[0;36mfit\u001b[0;34m(self, X, y)\u001b[0m\n\u001b[1;32m    667\u001b[0m         \u001b[0;31m# Reset internal state before fitting\u001b[0m\u001b[0;34m\u001b[0m\u001b[0;34m\u001b[0m\u001b[0m\n\u001b[1;32m    668\u001b[0m         \u001b[0mself\u001b[0m\u001b[0;34m.\u001b[0m\u001b[0m_reset\u001b[0m\u001b[0;34m(\u001b[0m\u001b[0;34m)\u001b[0m\u001b[0;34m\u001b[0m\u001b[0m\n\u001b[0;32m--> 669\u001b[0;31m         \u001b[0;32mreturn\u001b[0m \u001b[0mself\u001b[0m\u001b[0;34m.\u001b[0m\u001b[0mpartial_fit\u001b[0m\u001b[0;34m(\u001b[0m\u001b[0mX\u001b[0m\u001b[0;34m,\u001b[0m \u001b[0my\u001b[0m\u001b[0;34m)\u001b[0m\u001b[0;34m\u001b[0m\u001b[0m\n\u001b[0m\u001b[1;32m    670\u001b[0m \u001b[0;34m\u001b[0m\u001b[0m\n\u001b[1;32m    671\u001b[0m     \u001b[0;32mdef\u001b[0m \u001b[0mpartial_fit\u001b[0m\u001b[0;34m(\u001b[0m\u001b[0mself\u001b[0m\u001b[0;34m,\u001b[0m \u001b[0mX\u001b[0m\u001b[0;34m,\u001b[0m \u001b[0my\u001b[0m\u001b[0;34m=\u001b[0m\u001b[0;32mNone\u001b[0m\u001b[0;34m)\u001b[0m\u001b[0;34m:\u001b[0m\u001b[0;34m\u001b[0m\u001b[0m\n",
      "\u001b[0;32m/Library/Frameworks/Python.framework/Versions/3.7/lib/python3.7/site-packages/sklearn/preprocessing/_data.py\u001b[0m in \u001b[0;36mpartial_fit\u001b[0;34m(self, X, y)\u001b[0m\n\u001b[1;32m    698\u001b[0m         X = check_array(X, accept_sparse=('csr', 'csc'),\n\u001b[1;32m    699\u001b[0m                         \u001b[0mestimator\u001b[0m\u001b[0;34m=\u001b[0m\u001b[0mself\u001b[0m\u001b[0;34m,\u001b[0m \u001b[0mdtype\u001b[0m\u001b[0;34m=\u001b[0m\u001b[0mFLOAT_DTYPES\u001b[0m\u001b[0;34m,\u001b[0m\u001b[0;34m\u001b[0m\u001b[0m\n\u001b[0;32m--> 700\u001b[0;31m                         force_all_finite='allow-nan')\n\u001b[0m\u001b[1;32m    701\u001b[0m \u001b[0;34m\u001b[0m\u001b[0m\n\u001b[1;32m    702\u001b[0m         \u001b[0;31m# Even in the case of `with_mean=False`, we update the mean anyway\u001b[0m\u001b[0;34m\u001b[0m\u001b[0;34m\u001b[0m\u001b[0m\n",
      "\u001b[0;32m/Library/Frameworks/Python.framework/Versions/3.7/lib/python3.7/site-packages/sklearn/utils/validation.py\u001b[0m in \u001b[0;36mcheck_array\u001b[0;34m(array, accept_sparse, accept_large_sparse, dtype, order, copy, force_all_finite, ensure_2d, allow_nd, ensure_min_samples, ensure_min_features, warn_on_dtype, estimator)\u001b[0m\n\u001b[1;32m    529\u001b[0m                     \u001b[0marray\u001b[0m \u001b[0;34m=\u001b[0m \u001b[0marray\u001b[0m\u001b[0;34m.\u001b[0m\u001b[0mastype\u001b[0m\u001b[0;34m(\u001b[0m\u001b[0mdtype\u001b[0m\u001b[0;34m,\u001b[0m \u001b[0mcasting\u001b[0m\u001b[0;34m=\u001b[0m\u001b[0;34m\"unsafe\"\u001b[0m\u001b[0;34m,\u001b[0m \u001b[0mcopy\u001b[0m\u001b[0;34m=\u001b[0m\u001b[0;32mFalse\u001b[0m\u001b[0;34m)\u001b[0m\u001b[0;34m\u001b[0m\u001b[0m\n\u001b[1;32m    530\u001b[0m                 \u001b[0;32melse\u001b[0m\u001b[0;34m:\u001b[0m\u001b[0;34m\u001b[0m\u001b[0m\n\u001b[0;32m--> 531\u001b[0;31m                     \u001b[0marray\u001b[0m \u001b[0;34m=\u001b[0m \u001b[0mnp\u001b[0m\u001b[0;34m.\u001b[0m\u001b[0masarray\u001b[0m\u001b[0;34m(\u001b[0m\u001b[0marray\u001b[0m\u001b[0;34m,\u001b[0m \u001b[0morder\u001b[0m\u001b[0;34m=\u001b[0m\u001b[0morder\u001b[0m\u001b[0;34m,\u001b[0m \u001b[0mdtype\u001b[0m\u001b[0;34m=\u001b[0m\u001b[0mdtype\u001b[0m\u001b[0;34m)\u001b[0m\u001b[0;34m\u001b[0m\u001b[0m\n\u001b[0m\u001b[1;32m    532\u001b[0m             \u001b[0;32mexcept\u001b[0m \u001b[0mComplexWarning\u001b[0m\u001b[0;34m:\u001b[0m\u001b[0;34m\u001b[0m\u001b[0m\n\u001b[1;32m    533\u001b[0m                 raise ValueError(\"Complex data not supported\\n\"\n",
      "\u001b[0;32m/Library/Frameworks/Python.framework/Versions/3.7/lib/python3.7/site-packages/numpy/core/_asarray.py\u001b[0m in \u001b[0;36masarray\u001b[0;34m(a, dtype, order)\u001b[0m\n\u001b[1;32m     83\u001b[0m \u001b[0;34m\u001b[0m\u001b[0m\n\u001b[1;32m     84\u001b[0m     \"\"\"\n\u001b[0;32m---> 85\u001b[0;31m     \u001b[0;32mreturn\u001b[0m \u001b[0marray\u001b[0m\u001b[0;34m(\u001b[0m\u001b[0ma\u001b[0m\u001b[0;34m,\u001b[0m \u001b[0mdtype\u001b[0m\u001b[0;34m,\u001b[0m \u001b[0mcopy\u001b[0m\u001b[0;34m=\u001b[0m\u001b[0;32mFalse\u001b[0m\u001b[0;34m,\u001b[0m \u001b[0morder\u001b[0m\u001b[0;34m=\u001b[0m\u001b[0morder\u001b[0m\u001b[0;34m)\u001b[0m\u001b[0;34m\u001b[0m\u001b[0m\n\u001b[0m\u001b[1;32m     86\u001b[0m \u001b[0;34m\u001b[0m\u001b[0m\n\u001b[1;32m     87\u001b[0m \u001b[0;34m\u001b[0m\u001b[0m\n",
      "\u001b[0;31mValueError\u001b[0m: could not convert string to float: 'P'"
     ]
    }
   ],
   "source": [
    "pipe.fit(X_train,y_train)"
   ]
  },
  {
   "cell_type": "code",
   "execution_count": null,
   "metadata": {},
   "outputs": [],
   "source": []
  }
 ],
 "metadata": {
  "kernelspec": {
   "display_name": "Python 3",
   "language": "python",
   "name": "python3"
  },
  "language_info": {
   "codemirror_mode": {
    "name": "ipython",
    "version": 3
   },
   "file_extension": ".py",
   "mimetype": "text/x-python",
   "name": "python",
   "nbconvert_exporter": "python",
   "pygments_lexer": "ipython3",
   "version": "3.7.4"
  },
  "pycharm": {
   "stem_cell": {
    "cell_type": "raw",
    "metadata": {
     "collapsed": false
    },
    "source": []
   }
  }
 },
 "nbformat": 4,
 "nbformat_minor": 2
}
