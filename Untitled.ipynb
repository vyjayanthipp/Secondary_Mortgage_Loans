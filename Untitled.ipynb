{
 "cells": [
  {
   "cell_type": "code",
   "execution_count": 2,
   "metadata": {},
   "outputs": [],
   "source": [
    "import pandas as pd"
   ]
  },
  {
   "cell_type": "code",
   "execution_count": 15,
   "metadata": {},
   "outputs": [],
   "source": [
    "def read_csv(acq_perf='Acquisition'):\n",
    "    \"\"\"\n",
    "    Args:\n",
    "        acq_perf (str):  'Acquisition' or 'Performance' CSV files to read\n",
    "        Note - Please download the data from https://www.fanniemae.com/portal/funding-the-market/data/loan-performance-data.html\n",
    "                    Then unzip individual files and move them into a 'data' folder to use this function.\n",
    "    Returns:\n",
    "        Pandas DataFrame from either 'Acquisition' or 'Performance' CSV file\n",
    "    \"\"\"\n",
    "    # Column Names and descriptions (in comments)\n",
    "    HEADERS = {\n",
    "        \"Acquisition\": [\n",
    "            \"id\",  # LOAN IDENTIFIER\n",
    "            \"channel\",  # ORIGINATION CHANNEL\n",
    "            \"seller\",  # SELLER NAME\n",
    "            \"interest_rate\",  # ORIGINAL INTEREST RATE\n",
    "            \"balance\",  # ORIGINAL UPB\n",
    "            \"loan_term\",  # ORIGINAL LOAN TERM\n",
    "            \"origination_date\",  # ORIGINATION DATE\n",
    "            \"first_payment_date\",  # FIRST PAYMENT DATE\n",
    "            \"ltv\",  # LOAN-TO-VALUE\n",
    "            \"cltv\",  # COMBINED LOAN-TO-VALUE\n",
    "            \"borrower_count\",  # NUMBER OF BORROWERS\n",
    "            \"dti\",  # DEBT TO INCOME RATIO\n",
    "            \"borrower_score\",  # BORROWER CREDIT SCORE\n",
    "            \"first_time_homebuyer\",  # FIRST TIME HOME BUYER INDICATOR\n",
    "            \"loan_purpose\",  # LOAN PURPOSE\n",
    "            \"property_type\",  # PROPERTY TYPE\n",
    "            \"unit_count\",  # NUMBER OF UNIT\n",
    "            \"occupancy_type\",  # OCCUPANCY TYPE\n",
    "            \"property_state\",  # PROPERTY STATE\n",
    "            \"zip\",  # ZIPCODE\n",
    "            \"insurance_percentage\",  # PRIMARY MORTGAGE INSURANCE PERCENT\n",
    "            \"product_type\",  # PRODUCT TYPE\n",
    "            \"coborrower_score\",  # CO-BORROWER CREDIT SCORE\n",
    "            \"insurance_type\",  # MORTGAGE INSURANCE TYPE\n",
    "            \"relocation_flag\",  # RELOCATION MORTGAGE INDICATOR\n",
    "            ],\n",
    "        \"Performance\": [\n",
    "            \"id\",\n",
    "            \"reporting_period\",\n",
    "            \"servicer_name\",\n",
    "            \"interest_rate\",  # CURRENT INTEREST RATE\n",
    "            \"balance\",  # CURRENT BALANCE\n",
    "            \"loan_age\",\n",
    "            \"months_to_maturity\", # REMAINING MONTHS TO LEGAL MATURITY\n",
    "            \"adj_months_to_maturity\", # ADJUSTED MONTHS TO MATURITY\n",
    "            \"maturity_date\",\n",
    "            \"msa\",  # METROPOLITAN STATISTICAL AREA\n",
    "            \"delinquency_status\", # CURRENT LOAN DELINQUENCY STATUS\n",
    "            \"modification_flag\",  # MODIFICATION FLAG\n",
    "            \"zero_balance_code\", # ZERO BALANCE CODE\n",
    "            \"zero_balance_date\", # ZERO BALANCE EFFECTIVE DATE\n",
    "            \"last_paid_installment_date\",  # LAST PAID INSTALLMENT DATE\n",
    "            \"foreclosure_date\", # FORECLOSURE DATE\n",
    "            \"disposition_date\", # DISPOSITION DATE\n",
    "            \"foreclosure_costs\", # FORECLOSURE COSTS\n",
    "            \"property_repair_costs\", # PROPERTY PRESERVATION AND REPAIR COSTS\n",
    "            \"recovery_costs\", # ASSET RECOVERY COSTS\n",
    "            \"misc_costs\", # MISCELLANEOUS HOLDING EXPENSES AND CREDITS\n",
    "            \"tax_costs\", # ASSOCIATED TAXES FOR HOLDING PROPERTY\n",
    "            \"sale_proceeds\", # NET SALE PROCEEDS\n",
    "            \"credit_enhancement_proceeds\", # CREDIT ENHANCEMENT PROCEEDS\n",
    "            \"repurchase_proceeds\", # REPURCHASE MAKE WHOLE PROCEEDS\n",
    "            \"other_foreclosure_proceeds\",\n",
    "            \"non_interest_bearing_balance\",\n",
    "            \"principal_forgiveness_balance\",\n",
    "            \"make_whole_flag\",  # REPURCHASE MAKE WHOLE PROCEEDS FLAG\n",
    "            \"foreclosure_writeoff\",  # FORECLOSURE PRINCIPAL WRITE-OFF AMOUNT\n",
    "            \"activity_flag\" # SERVICING ACTIVITY INDICATOR\n",
    "            ]\n",
    "        }\n",
    "\n",
    "    df = []\n",
    "    for q in range(1, 5):  # For the 4 Quarters of 2018\n",
    "        df.append(pd.read_csv(f'data/{acq_perf}_2018Q{q}.txt', sep='|', names=HEADERS[acq_perf],\n",
    "                              low_memory=False))\n",
    "\n",
    "    return pd.concat(df, axis=0, ignore_index=True)"
   ]
  },
  {
   "cell_type": "code",
   "execution_count": 12,
   "metadata": {},
   "outputs": [],
   "source": [
    "%run codes/preprocess.py"
   ]
  },
  {
   "cell_type": "code",
   "execution_count": 9,
   "metadata": {},
   "outputs": [],
   "source": [
    "%run codes/model.py"
   ]
  },
  {
   "cell_type": "code",
   "execution_count": null,
   "metadata": {},
   "outputs": [],
   "source": []
  }
 ],
 "metadata": {
  "kernelspec": {
   "display_name": "Python 3",
   "language": "python",
   "name": "python3"
  },
  "language_info": {
   "codemirror_mode": {
    "name": "ipython",
    "version": 3
   },
   "file_extension": ".py",
   "mimetype": "text/x-python",
   "name": "python",
   "nbconvert_exporter": "python",
   "pygments_lexer": "ipython3",
   "version": "3.7.4"
  }
 },
 "nbformat": 4,
 "nbformat_minor": 4
}
