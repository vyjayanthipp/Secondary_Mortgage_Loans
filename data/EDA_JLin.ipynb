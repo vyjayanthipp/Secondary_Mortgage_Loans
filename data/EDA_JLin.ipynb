{
 "cells": [
  {
   "cell_type": "markdown",
   "metadata": {
    "collapsed": true,
    "pycharm": {
     "name": "#%% md\n"
    }
   },
   "source": [
    "Data Exploration"
   ]
  },
  {
   "cell_type": "markdown",
   "metadata": {
    "pycharm": {
     "name": "#%% md\n"
    }
   },
   "source": [
    "Import Libraries"
   ]
  },
  {
   "cell_type": "code",
   "execution_count": 1,
   "metadata": {
    "pycharm": {
     "is_executing": false,
     "name": "#%%\n"
    }
   },
   "outputs": [],
   "source": [
    "import pandas as pd"
   ]
  },
  {
   "cell_type": "code",
   "execution_count": 10,
   "metadata": {
    "pycharm": {
     "name": "#%%\n",
     "is_executing": false
    }
   },
   "outputs": [],
   "source": [
    "def read_csv(acq_perf='Acquisition'):\n",
    "    \"\"\"\n",
    "    \n",
    "    Args:\n",
    "        acq_perf (str): \n",
    "\n",
    "    Returns:\n",
    "        Pandas DataFrame from either 'Acquisition' or 'Performance' CSV file\n",
    "    \"\"\"\n",
    "    # Column Names and descriptions (in comments)\n",
    "    HEADERS = { \n",
    "        \"Acquisition\": [\n",
    "            \"id\", # LOAN IDENTIFIER\n",
    "            \"channel\", # ORIGINATION CHANNEL\n",
    "            \"seller\", # SELLER NAME\n",
    "            \"interest_rate\", # ORIGINAL INTEREST RATE\n",
    "            \"balance\", # ORIGINAL UPB \n",
    "            \"loan_term\", # ORIGINAL LOAN TERM\n",
    "            \"origination_date\", # ORIGINATION DATE\n",
    "            \"first_payment_date\", # FIRST PAYMENT DATE\n",
    "            \"ltv\", # LOAN-TO-VALUE \n",
    "            \"cltv\", # COMBINED LOAN-TO-VALUE\n",
    "            \"borrower_count\", # NUMBER OF BORROWERS \n",
    "            \"dti\", # DEBT TO INCOME RATIO \n",
    "            \"borrower_score\", # BORROWER CREDIT SCORE\n",
    "            \"first_time_homebuyer\", # FIRST TIME HOME BUYER INDICATOR \n",
    "            \"loan_purpose\", # LOAN PURPOSE\n",
    "            \"property_type\", # PROPERTY TYPE \n",
    "            \"unit_count\", # NUMBER OF UNIT\n",
    "            \"occupancy_type\", # OCCUPANCY TYPE\n",
    "            \"property_state\", # PROPERTY STATE \n",
    "            \"zip\", # ZIPCODE\n",
    "            \"insurance_percentage\", # PRIMARY MORTGAGE INSURANCE PERCENT\n",
    "            \"product_type\", # PRODUCT TYPE \n",
    "            \"coborrower_score\", # CO-BORROWER CREDIT SCORE\n",
    "            \"insurance_type\", # MORTGAGE INSURANCE TYPE\n",
    "            \"relocation_flag\", # RELOCATION MORTGAGE INDICATOR\n",
    "        ],\n",
    "        \"Performance\": [\n",
    "            \"id\",\n",
    "            \"reporting_period\",\n",
    "            \"servicer_name\",\n",
    "            \"interest_rate\", # CURRENT INTEREST RATE \n",
    "            \"balance\", # CURRENT BALANCE\n",
    "            \"loan_age\",\n",
    "            \"months_to_maturity\", \n",
    "            \"maturity_date\",\n",
    "            \"msa\", # METROPOLITAN STATISTICAL AREA \n",
    "            \"delinquency_status\", \n",
    "            \"modification_flag\",\n",
    "            \"zero_balance_code\",\n",
    "            \"zero_balance_date\",\n",
    "            \"last_paid_installment_date\",\n",
    "            \"foreclosure_date\",\n",
    "            \"disposition_date\",\n",
    "            \"foreclosure_costs\",\n",
    "            \"property_repair_costs\",\n",
    "            \"recovery_costs\",\n",
    "            \"misc_costs\",\n",
    "            \"tax_costs\",\n",
    "            \"sale_proceeds\",\n",
    "            \"credit_enhancement_proceeds\",\n",
    "            \"repurchase_proceeds\",\n",
    "            \"other_foreclosure_proceeds\",\n",
    "            \"non_interest_bearing_balance\",\n",
    "            \"principal_forgiveness_balance\",\n",
    "            \"make_whole_flag\", # REPURCHASE MAKE WHOLE PROCEEDS FLAG\n",
    "            \"foreclosure_writeoff\", # FORECLOSURE PRINCIPAL WRITE-OFF AMOUNT \n",
    "            \"activity_flag\", # SERVICING ACTIVITY INDICATOR \n",
    "        ]\n",
    "    }\n",
    "        \n",
    "    df = []\n",
    "    for q in range(1,5):\n",
    "        df.append(pd.read_csv(f'{acq_perf}_2018Q{q}.txt', sep='|', names=HEADERS[acq_perf], \n",
    "                              low_memory=False))\n",
    "    return pd.concat(df,axis=0, ignore_index=True)"
   ]
  },
  {
   "cell_type": "code",
   "execution_count": 12,
   "outputs": [],
   "source": [
    "acquisition_df = read_csv('Acquisition')\n",
    "performance_df = read_csv('Performance')\n"
   ],
   "metadata": {
    "collapsed": false,
    "pycharm": {
     "name": "#%%\n",
     "is_executing": false
    }
   }
  },
  {
   "cell_type": "code",
   "execution_count": null,
   "outputs": [],
   "source": [
    "\n"
   ],
   "metadata": {
    "collapsed": false,
    "pycharm": {
     "name": "#%%\n"
    }
   }
  }
 ],
 "metadata": {
  "kernelspec": {
   "display_name": "Python 3.7.0 64-bit",
   "language": "python",
   "name": "python37064bitf3ab289456ca4d1cbe29a87a8faf5159"
  },
  "language_info": {
   "codemirror_mode": {
    "name": "ipython",
    "version": 3
   },
   "file_extension": ".py",
   "mimetype": "text/x-python",
   "name": "python",
   "nbconvert_exporter": "python",
   "pygments_lexer": "ipython3",
   "version": "3.7.0"
  },
  "pycharm": {
   "stem_cell": {
    "cell_type": "raw",
    "source": [],
    "metadata": {
     "collapsed": false
    }
   }
  }
 },
 "nbformat": 4,
 "nbformat_minor": 1
}