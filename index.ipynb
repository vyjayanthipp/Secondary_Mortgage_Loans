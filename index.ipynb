{
 "cells": [
  {
   "cell_type": "markdown",
   "metadata": {
    "pycharm": {
     "name": "#%% md\n"
    }
   },
   "source": [
    "# Mortgage Delinquencies\n",
    "Predicting which loans will become delinquent (late payment)."
   ]
  },
  {
   "cell_type": "markdown",
   "metadata": {},
   "source": [
    "### Table of Contents\n",
    "   - [Objective](#objective)\n",
    "   - [Data](#data)\n",
    "       - [Exploratory Data Analysis](#eda)\n",
    "   - [Model](#model)\n",
    "       - [Build & Trian](#bnt)\n",
    "       - [Validation](#validate)\n",
    "   - [Result](#result)"
   ]
  },
  {
   "cell_type": "markdown",
   "metadata": {},
   "source": [
    "## <a id=\"objective\">Objective</a>\n",
    "Predicting which loans will become delinquent (late payment)."
   ]
  },
  {
   "cell_type": "markdown",
   "metadata": {},
   "source": [
    "## <a id=\"data\">Data</a>\n",
    "Data source: "
   ]
  },
  {
   "cell_type": "markdown",
   "metadata": {},
   "source": [
    "### <a id=\"eda\">Exploratory Data Analysis</a>"
   ]
  },
  {
   "cell_type": "markdown",
   "metadata": {},
   "source": [
    "#### Import Libraries"
   ]
  },
  {
   "cell_type": "code",
   "execution_count": 1,
   "metadata": {},
   "outputs": [],
   "source": [
    "from codes.preprocess import *\n",
    "from codes.model import *"
   ]
  },
  {
   "cell_type": "markdown",
   "metadata": {},
   "source": [
    "Please download the data from [Fannie Mae](https://www.fanniemae.com/portal/funding-the-market/data/loan-performance-data.html). <br>\n",
    "Then unzip individual files and move them into a \"data\" folder to use the function \"preprocess\" in \"preprocess\" file of \"codes\" folder.<br>\n",
    "Cleaned [Test]() and [Train]() Data is included in \"data\" folder."
   ]
  },
  {
   "cell_type": "markdown",
   "metadata": {},
   "source": [
    "#### Preprocess data\n",
    "Can run the follow line of code when the data is downloaded. \n",
    "And only txt files for Aquisition and Performance are in the data.\n",
    "This code will read the txt files, preprocess them, \n",
    "and save a \"cleaned_train_data.csv.zip\" and \"cleaned_test_data.csv.zip\" files."
   ]
  },
  {
   "cell_type": "markdown",
   "metadata": {},
   "source": [
    "\"\"\"# change this cell to 'code\" only when needed to create cleaned data\"\"\"\n",
    "preprocess()  "
   ]
  },
  {
   "cell_type": "markdown",
   "metadata": {},
   "source": [
    "## <a id=\"model\">Model</a>"
   ]
  },
  {
   "cell_type": "markdown",
   "metadata": {},
   "source": [
    "### <a id=\"bnt\">Build and Train</a>"
   ]
  },
  {
   "cell_type": "markdown",
   "metadata": {},
   "source": [
    "#### Load Trian Data"
   ]
  },
  {
   "cell_type": "code",
   "execution_count": 2,
   "metadata": {},
   "outputs": [],
   "source": [
    "X_train,y_train = load_clean_data('train')"
   ]
  },
  {
   "cell_type": "markdown",
   "metadata": {},
   "source": [
    "### <a id=\"validate\">Validation</a>"
   ]
  },
  {
   "cell_type": "code",
   "execution_count": null,
   "metadata": {},
   "outputs": [],
   "source": [
    "X_test,y_test = load_clean_data('test')"
   ]
  },
  {
   "cell_type": "markdown",
   "metadata": {},
   "source": [
    "## <a id=\"result\">Result</a>"
   ]
  },
  {
   "cell_type": "markdown",
   "metadata": {},
   "source": [
    "**Precision or Recall**"
   ]
  },
  {
   "cell_type": "code",
   "execution_count": null,
   "metadata": {},
   "outputs": [],
   "source": []
  }
 ],
 "metadata": {
  "kernelspec": {
   "display_name": "Python 3.7.0 64-bit",
   "language": "python",
   "name": "python37064bitf3ab289456ca4d1cbe29a87a8faf5159"
  },
  "language_info": {
   "codemirror_mode": {
    "name": "ipython",
    "version": 3
   },
   "file_extension": ".py",
   "mimetype": "text/x-python",
   "name": "python",
   "nbconvert_exporter": "python",
   "pygments_lexer": "ipython3",
<<<<<<< HEAD
   "version": "3.7.4"
=======
   "version": "3.7.0"
>>>>>>> b582423d4ed7ad9128a0333f333451baa8dda82c
  },
  "pycharm": {
   "stem_cell": {
    "cell_type": "raw",
    "metadata": {
     "collapsed": false
    },
    "source": []
   }
  }
 },
 "nbformat": 4,
<<<<<<< HEAD
 "nbformat_minor": 4
=======
 "nbformat_minor": 1
>>>>>>> b582423d4ed7ad9128a0333f333451baa8dda82c
}
